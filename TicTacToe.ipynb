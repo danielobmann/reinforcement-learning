{
 "cells": [
  {
   "cell_type": "code",
   "execution_count": 98,
   "metadata": {},
   "outputs": [],
   "source": [
    "import numpy as np\n",
    "import matplotlib.pyplot as plt\n",
    "\n",
    "class TicTacToe:\n",
    "    \n",
    "    def __init__(self, N=3):\n",
    "        self.N = N\n",
    "        self.board = np.zeros((N, N))\n",
    "        self.action_space = [i for i in range(N*N)]\n",
    "        self.num_actions = len(self.action_space)\n",
    "        self.num_states = 5478 #3**(N**2)\n",
    "        \n",
    "    def step(self, action, player=1):\n",
    "        self.board = self.get_new_state(self.board, action, player=player)\n",
    "        won = self.check_board(player)\n",
    "        done = won or (self.board != 0).all()\n",
    "        if won:\n",
    "            reward = 5\n",
    "            self.reset_board()\n",
    "        else:\n",
    "            reward = -1\n",
    "        return self.board, reward, done\n",
    "        \n",
    "    def check_board(self, player):\n",
    "        won = False\n",
    "        for i in range(self.N):\n",
    "            won = (self.board[i,:] == player).all() or (self.board[:, i] == player).all()\n",
    "            if won:\n",
    "                break\n",
    "        # Check diagonals\n",
    "        won = won or np.diag(self.board == player).all() or np.diag(np.fliplr(self.board) == player).all()\n",
    "        return won\n",
    "        \n",
    "    def reset_board(self):\n",
    "        self.board = np.zeros((self.N, self.N))\n",
    "        return self.board\n",
    "        \n",
    "    def get_idx(self, action):\n",
    "        return (action//self.N, action % self.N)\n",
    "    \n",
    "    def sample_action(self):\n",
    "        return np.random.choice(self.num_actions)\n",
    "    \n",
    "    def state_to_idx(self, state):\n",
    "        return int(np.sum(3**state.flatten()))\n",
    "    \n",
    "    def play_game(self, player1, player2):\n",
    "        hist = [self.reset_board().copy()]\n",
    "        done = False\n",
    "        while not done:\n",
    "            action = player1.get_action(hist[-1], eps=0)\n",
    "            state, _, done = self.step(action, player=1)\n",
    "            hist.append(action)\n",
    "            hist.append(state.copy())\n",
    "            if done:\n",
    "                break\n",
    "            action = player2.get_action(hist[-1], eps=0)\n",
    "            state, _, done = self.step(action, player=2)\n",
    "            hist.append(action)\n",
    "            hist.append(state.copy())\n",
    "        return hist\n",
    "    \n",
    "    def possible_actions(self, state):\n",
    "        return np.argwhere(state.flatten() == 0).flatten()\n",
    "    \n",
    "    def get_new_state(self, state, action, player=1):\n",
    "        s = state.copy()\n",
    "        idx = self.get_idx(action)\n",
    "        s[idx[0], idx[1]] = player\n",
    "        return s\n"
   ]
  },
  {
   "cell_type": "code",
   "execution_count": 99,
   "metadata": {},
   "outputs": [],
   "source": [
    "class QLearning:\n",
    "    def __init__(self, env):\n",
    "        self.env = env\n",
    "        self.Q = np.zeros((env.num_states, env.num_actions))\n",
    "        \n",
    "    def update(self, state, action, reward, state_prime, alpha=0.5, gamma=1):\n",
    "        state_idx = self.env.state_to_idx(state)\n",
    "        state_prime_idx = self.env.state_to_idx(state_prime)\n",
    "        self.Q[state_idx, action] += alpha*(reward + gamma * np.amax(self.Q[state_prime_idx, ]) - self.Q[state_idx, action])\n",
    "        \n",
    "    def get_action(self, state, eps=0.1):\n",
    "        state_idx = self.env.state_to_idx(state)\n",
    "        possible_actions = self.env.possible_actions(state)\n",
    "        if eps <= np.random.uniform():\n",
    "            action = np.random.choice(possible_actions)\n",
    "        else:\n",
    "            action = np.argmax(self.Q[state_idx, possible_actions])\n",
    "            action = possible_actions[action]\n",
    "        return action\n"
   ]
  },
  {
   "cell_type": "code",
   "execution_count": 109,
   "metadata": {},
   "outputs": [],
   "source": [
    "class AfterstateAgent:\n",
    "    def __init__(self, env):\n",
    "        self.env = env\n",
    "        self.W = np.zeros(env.num_states)\n",
    "        \n",
    "    def update(self, state, action, reward, state_prime, alpha=0.5, gamma=1):\n",
    "        state_idx = self.env.state_to_idx(state)\n",
    "        state_prime_idx = self.env.state_to_idx(state_prime)\n",
    "        self.W[state_idx] += alpha*(reward + gamma * self.W[state_prime_idx] - self.W[state_idx])\n",
    "    \n",
    "    def get_action(self, state, eps=0.1, player=2):\n",
    "        possible_actions = self.env.possible_actions(state)\n",
    "        if eps <= np.random.uniform():\n",
    "            action = np.random.choice(possible_actions)\n",
    "        else:\n",
    "            state_idxs = [self.env.state_to_idx(self.env.get_new_state(state, a, player=2)) for a in possible_actions]\n",
    "            values = np.array([self.W[idx] for idx in state_idxs])\n",
    "            action_idx = np.argmax(values)\n",
    "            action = possible_actions[action_idx]\n",
    "        return action\n",
    "    "
   ]
  },
  {
   "cell_type": "code",
   "execution_count": 112,
   "metadata": {},
   "outputs": [],
   "source": [
    "ttt = TicTacToe(N=3)\n",
    "\n",
    "episodes = 5000\n",
    "alpha = 0.5\n",
    "eps = 0.3\n",
    "gamma = 1\n",
    "\n",
    "Q = AfterstateAgent(ttt)\n",
    "W = AfterstateAgent(ttt)\n",
    "P1 = []\n",
    "P2 = []"
   ]
  },
  {
   "cell_type": "code",
   "execution_count": 113,
   "metadata": {},
   "outputs": [
    {
     "name": "stdout",
     "output_type": "stream",
     "text": [
      "Episode 5000: Player 1 -0.346, Player 2 -0.333"
     ]
    },
    {
     "data": {
      "text/plain": [
       "<matplotlib.legend.Legend at 0xff1be48>"
      ]
     },
     "execution_count": 113,
     "metadata": {},
     "output_type": "execute_result"
    },
    {
     "data": {
      "image/png": "[encoded data removed]",
      "text/plain": [
       "<Figure size 432x288 with 1 Axes>"
      ]
     },
     "metadata": {
      "needs_background": "light"
     },
     "output_type": "display_data"
    }
   ],
   "source": [
    "for episode in range(episodes):\n",
    "    state = ttt.reset_board()\n",
    "    done = False\n",
    "    p1returns = []\n",
    "    p2returns = []\n",
    "    while not done:\n",
    "        action = Q.get_action(state)\n",
    "        new_state, reward, done = ttt.step(action, player=1)\n",
    "        Q.update(state, action, reward, new_state, alpha=alpha, gamma=gamma)\n",
    "        \n",
    "        p1returns.append(reward)\n",
    "        if done:\n",
    "            break\n",
    "\n",
    "        action = W.get_action(state)\n",
    "        state, reward, done = ttt.step(action, player=2)\n",
    "        W.update(new_state, action, reward, state, alpha=alpha, gamma=gamma)\n",
    "        \n",
    "        p2returns.append(reward)\n",
    "        \n",
    "    P1.append(np.mean(p1returns))\n",
    "    P2.append(np.mean(p2returns))\n",
    "        \n",
    "    if (episode+1) % 500 == 0:\n",
    "        r1 = (np.cumsum(P1)/np.arange(1, episode+2))[-1]\n",
    "        r2 = (np.cumsum(P2)/np.arange(1, episode+2))[-1]\n",
    "        print(\"\\rEpisode %d: Player 1 %0.3f, Player 2 %0.3f\" % (episode+1, r1, r2), end=\"\")\n",
    "        \n",
    "plt.plot(np.convolve(P1, np.ones(100)/100), label=\"QLearning\")\n",
    "plt.plot(np.convolve(P2, np.ones(100)/100), label=\"Afterstates\")\n",
    "plt.legend()"
   ]
  },
  {
   "cell_type": "code",
   "execution_count": 114,
   "metadata": {},
   "outputs": [
    {
     "data": {
      "text/plain": [
       "[array([[0., 0., 0.],\n",
       "        [0., 0., 0.],\n",
       "        [0., 0., 0.]]),\n",
       " 3,\n",
       " array([[0., 0., 0.],\n",
       "        [1., 0., 0.],\n",
       "        [0., 0., 0.]]),\n",
       " 7,\n",
       " array([[0., 0., 0.],\n",
       "        [1., 0., 0.],\n",
       "        [0., 2., 0.]]),\n",
       " 8,\n",
       " array([[0., 0., 0.],\n",
       "        [1., 0., 0.],\n",
       "        [0., 2., 1.]]),\n",
       " 6,\n",
       " array([[0., 0., 0.],\n",
       "        [1., 0., 0.],\n",
       "        [2., 2., 1.]]),\n",
       " 4,\n",
       " array([[0., 0., 0.],\n",
       "        [1., 1., 0.],\n",
       "        [2., 2., 1.]]),\n",
       " 1,\n",
       " array([[0., 2., 0.],\n",
       "        [1., 1., 0.],\n",
       "        [2., 2., 1.]]),\n",
       " 5,\n",
       " array([[0., 0., 0.],\n",
       "        [0., 0., 0.],\n",
       "        [0., 0., 0.]])]"
      ]
     },
     "execution_count": 114,
     "metadata": {},
     "output_type": "execute_result"
    }
   ],
   "source": [
    "ttt.play_game(Q, W)"
   ]
  },
  {
   "cell_type": "code",
   "execution_count": 115,
   "metadata": {},
   "outputs": [
    {
     "data": {
      "text/plain": [
       "[<matplotlib.lines.Line2D at 0xff90708>]"
      ]
     },
     "execution_count": 115,
     "metadata": {},
     "output_type": "execute_result"
    },
    {
     "data": {
      "image/png": "[encoded data removed]",
      "text/plain": [
       "<Figure size 432x288 with 1 Axes>"
      ]
     },
     "metadata": {
      "needs_background": "light"
     },
     "output_type": "display_data"
    }
   ],
   "source": [
    "plt.plot(np.cumsum(P1)/np.arange(1, episodes+1))"
   ]
  },
  {
   "cell_type": "code",
   "execution_count": 116,
   "metadata": {},
   "outputs": [
    {
     "data": {
      "text/plain": [
       "[<matplotlib.lines.Line2D at 0xffe9f08>]"
      ]
     },
     "execution_count": 116,
     "metadata": {},
     "output_type": "execute_result"
    },
    {
     "data": {
      "image/png": "[encoded data removed]",
      "text/plain": [
       "<Figure size 432x288 with 1 Axes>"
      ]
     },
     "metadata": {
      "needs_background": "light"
     },
     "output_type": "display_data"
    }
   ],
   "source": [
    "plt.plot(Q.W)"
   ]
  },
  {
   "cell_type": "code",
   "execution_count": null,
   "metadata": {},
   "outputs": [],
   "source": []
  }
 ],
 "metadata": {
  "kernelspec": {
   "display_name": "Python 3",
   "language": "python",
   "name": "python3"
  },
  "language_info": {
   "codemirror_mode": {
    "name": "ipython",
    "version": 3
   },
   "file_extension": ".py",
   "mimetype": "text/x-python",
   "name": "python",
   "nbconvert_exporter": "python",
   "pygments_lexer": "ipython3",
   "version": "3.7.7"
  }
 },
 "nbformat": 4,
 "nbformat_minor": 4
}
